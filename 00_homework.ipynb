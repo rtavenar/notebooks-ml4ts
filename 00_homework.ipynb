{
 "cells": [
  {
   "attachments": {},
   "cell_type": "markdown",
   "metadata": {
    "cell_id": "60e8e917ea5b4762b1cc8a489aa30eb6",
    "deepnote_cell_type": "markdown",
    "tags": []
   },
   "source": [
    "# Home assignment\n",
    "\n",
    "* Author: Romain Tavenard (@rtavenar)\n",
    "* License: CC-BY-NC-SA\n",
    "\n",
    "A home assignment from a course on Machine Learning for Time Series at ENSAI.\n",
    "One can find lecture notes for this course [there](https://rtavenar.github.io/ml4ts_ensai/).\n",
    "\n",
    "## Problem statement\n",
    "\n",
    "A time series dataset is provided under the form of several files available from the `data/` folder.\n",
    "The dataset is called \"GesturePebbleZ2\" and is described [in this page](http://www.timeseriesclassification.com/description.php?Dataset=GesturePebbleZ2).\n",
    "\n",
    "You should load the data and analyze it under several angles:\n",
    "\n",
    "1. provide a fair comparison of a few (well-chosen) deep-learning-based models for the time series classification task at hand;\n",
    "2. illustrate the use of this data in 1 or 2 other scenarios (clustering, forecasting, ...)\n",
    "\n",
    "It is not asked here that you implement specific layers / methods by yourself, but rather that you use established implementations of the methods you need.\n",
    "Your focus should rather be on:\n",
    "* data preparation, \n",
    "* model architecture (for deep networks),\n",
    "* experiment design,\n",
    "* result analysis\n",
    "\n",
    "## Deadline\n",
    "\n",
    "Deadline for this home assignment is February 21th, 2025.\n",
    "You should use the link on moodle to hand in your assignment.\n",
    "A single ipynb file should be provided, \n",
    "with execution traces.\n",
    "This assignment is to be done **by groups of two, at most** and names of both students should be included in the file name."
   ]
  }
 ],
 "metadata": {
  "deepnote": {},
  "deepnote_execution_queue": [],
  "deepnote_notebook_id": "da3f2328c5444c2a931e21e0c8570d48",
  "kernelspec": {
   "display_name": "py38_data",
   "language": "python",
   "name": "python3"
  },
  "language_info": {
   "name": "python",
   "version": "3.9.6 (default, Sep 26 2022, 11:37:49) \n[Clang 14.0.0 (clang-1400.0.29.202)]"
  },
  "orig_nbformat": 2,
  "vscode": {
   "interpreter": {
    "hash": "25f9a3951446179f6c2016b22a60b44495fe90f43bda7f3caedfe2c1a9cd31f9"
   }
  }
 },
 "nbformat": 4,
 "nbformat_minor": 0
}
